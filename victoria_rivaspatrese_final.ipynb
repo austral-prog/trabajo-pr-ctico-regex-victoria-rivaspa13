{
 "cells": [
  {
   "cell_type": "code",
   "execution_count": 8,
   "id": "98bce14f-98b2-4855-99c3-284c9f0f1322",
   "metadata": {},
   "outputs": [],
   "source": [
    "import re\n",
    "\n",
    "s = \"\"\"\n",
    "\n",
    "Once upon a time, in the enchanted land of Regexville, there lived a group of intrepid explorers.\n",
    "Their leader, Alice, was known for her love of adventure and her trusty email address, alice@example.com.\n",
    "Her phone number, 123-456-7890, was her lifeline in times of trouble.\n",
    "One day, Alice received a mysterious letter with today's date: 08/10/2023. The letter hinted at an upcoming quest.\n",
    "The explorers gathered at the local inn, where they found a weathered map marked with a hashtag: #adventure.\n",
    "The map pointed to a hidden treasure on the website https://www.treasurehunt.com. The inn's address was 123 Main Street, Regexville, ZIP: 12345-6789.\n",
    "Their journey took them through the ancient forest, where they stumbled upon a cave with cryptic inscriptions:\n",
    "\"Python is amazing!\" and \"Java is equally fascinating!\" The explorers knew they were on the right path.\n",
    "Inside the cave, they found a device with the IP address 192.168.1.1 and a MAC addres of 00-B0-D0-63-C2-26, which held valuable clues.\n",
    "\n",
    "Among the explorers, there was a wordsmith who loved finding words with three consecutive vowels:\n",
    "\"boasting,\" \"quizzical,\" \"genuine,\" and \"queue\" were some of his favorites.\n",
    "As they continued their adventure, they encountered Lorem Ipsum, a lorem ipsum generator who spoke in Latin:\n",
    "\"Lorem ipsum dolor sit amet, consectetur adipiscing elit.\"\n",
    "In their pursuit, they stumbled upon an ancient book with mysterious ISBN-10 and ISBN-13 numbers:\n",
    "ISBN-10: 123456789X and ISBN-13: 978-1234567890.\n",
    "Their journey was filled with unexpected twists and turns, much like the regex patterns they used to decipher clues.\n",
    "After a long day, the explorers gathered around a campfire, sharing tales of their encounters. They realized that every step of their adventure was a puzzle waiting to be solved, just like the regex challenges they had conquered.\n",
    "As they drifted off to sleep under a starlit sky, they knew that their quest for treasure and knowledge had only just begun, and the magic of Regexville would continue to guide their way.\n",
    "\n",
    "\"\"\""
   ]
  },
  {
   "cell_type": "markdown",
   "id": "514f802a-9b85-4457-80b4-b53623832bb2",
   "metadata": {},
   "source": [
    "#### Write a Python program that matches and prints all words that start with the letter 'A' in a given text."
   ]
  },
  {
   "cell_type": "code",
   "execution_count": 9,
   "id": "db4c55db-2416-43bc-83b3-07eea37df2d7",
   "metadata": {
    "scrolled": true
   },
   "outputs": [
    {
     "name": "stdout",
     "output_type": "stream",
     "text": [
      "['Alice', 'Alice', 'Among', 'As', 'After', 'As']\n"
     ]
    }
   ],
   "source": [
    "matches = re.findall(r\"\\b[A]\\w*\",s)\n",
    "print(matches)"
   ]
  },
  {
   "cell_type": "markdown",
   "id": "964905ba-bcb1-4c2e-9a21-224e68728094",
   "metadata": {},
   "source": [
    "#### Create a Python program to validate email addresses. The program should check if a given string is a valid email address or not."
   ]
  },
  {
   "cell_type": "code",
   "execution_count": 10,
   "id": "4b499ed5-e972-4116-a721-dbfb29e781d5",
   "metadata": {},
   "outputs": [
    {
     "name": "stdout",
     "output_type": "stream",
     "text": [
      "['alice@example.com.']\n"
     ]
    }
   ],
   "source": [
    "print(re.findall(r'[\\b\\w\\d]+@[\\w]+[\\.]com[\\.]*',s))"
   ]
  },
  {
   "cell_type": "markdown",
   "id": "9e6e0450-214b-40c6-a474-6dff2c41ee43",
   "metadata": {},
   "source": [
    "#### Write a Python program to find and count all the digits in a given text."
   ]
  },
  {
   "cell_type": "code",
   "execution_count": 11,
   "id": "ec71a1d9-d971-4119-9124-a3f993069eeb",
   "metadata": {},
   "outputs": [
    {
     "name": "stdout",
     "output_type": "stream",
     "text": [
      "['1', '2', '3', '4', '5', '6', '7', '8', '9', '0', '0', '8', '1', '0', '2', '0', '2', '3', '1', '2', '3', '1', '2', '3', '4', '5', '6', '7', '8', '9', '1', '9', '2', '1', '6', '8', '1', '1', '0', '0', '0', '0', '6', '3', '2', '2', '6', '1', '0', '1', '3', '1', '0', '1', '2', '3', '4', '5', '6', '7', '8', '9', '1', '3', '9', '7', '8', '1', '2', '3', '4', '5', '6', '7', '8', '9', '0']\n",
      "77\n"
     ]
    }
   ],
   "source": [
    "var=(re.findall(r'\\d',s))\n",
    "print(var)\n",
    "print(len(var))"
   ]
  },
  {
   "cell_type": "markdown",
   "id": "5ba7033a-f85c-4ff9-9696-1a069beda9fb",
   "metadata": {},
   "source": [
    "#### Create a Python program that extracts all the URLs (http:// or https://) from a given text."
   ]
  },
  {
   "cell_type": "code",
   "execution_count": 12,
   "id": "a279940b-4058-4b6b-9b9f-0d99f6f1f558",
   "metadata": {},
   "outputs": [
    {
     "name": "stdout",
     "output_type": "stream",
     "text": [
      "['https://www.treasurehunt.com.']\n"
     ]
    }
   ],
   "source": [
    "print(re.findall(r\"https?://\\S+\", s))"
   ]
  },
  {
   "cell_type": "markdown",
   "id": "04664806-5191-4a7a-bb82-be8cd0e9a77c",
   "metadata": {},
   "source": [
    "#### Write a Python program that extracts all the phone numbers (in the format xxx-xxx-xxxx) from a given text."
   ]
  },
  {
   "cell_type": "code",
   "execution_count": 13,
   "id": "a88f57ea-c034-49e3-9586-bcf1a9b795f8",
   "metadata": {},
   "outputs": [
    {
     "name": "stdout",
     "output_type": "stream",
     "text": [
      "['123-456-7890']\n"
     ]
    }
   ],
   "source": [
    "print(re.findall(r'\\b\\d{3}-\\d{3}-\\d{4}\\b',s))"
   ]
  },
  {
   "cell_type": "markdown",
   "id": "9601a4e1-beee-4c81-8f64-b8794c73d593",
   "metadata": {},
   "source": [
    "#### Write a Python program that replaces all occurrences of \"Python\" with \"Java\" in a given text."
   ]
  },
  {
   "cell_type": "code",
   "execution_count": 14,
   "id": "fc8577e1-8f37-4c29-91f1-314736687689",
   "metadata": {},
   "outputs": [
    {
     "name": "stdout",
     "output_type": "stream",
     "text": [
      "\n",
      "\n",
      "Once upon a time, in the enchanted land of Regexville, there lived a group of intrepid explorers.\n",
      "Their leader, Alice, was known for her love of adventure and her trusty email address, alice@example.com.\n",
      "Her phone number, 123-456-7890, was her lifeline in times of trouble.\n",
      "One day, Alice received a mysterious letter with today's date: 08/10/2023. The letter hinted at an upcoming quest.\n",
      "The explorers gathered at the local inn, where they found a weathered map marked with a hashtag: #adventure.\n",
      "The map pointed to a hidden treasure on the website https://www.treasurehunt.com. The inn's address was 123 Main Street, Regexville, ZIP: 12345-6789.\n",
      "Their journey took them through the ancient forest, where they stumbled upon a cave with cryptic inscriptions:\n",
      "\"Java is amazing!\" and \"Java is equally fascinating!\" The explorers knew they were on the right path.\n",
      "Inside the cave, they found a device with the IP address 192.168.1.1 and a MAC addres of 00-B0-D0-63-C2-26, which held valuable clues.\n",
      "\n",
      "Among the explorers, there was a wordsmith who loved finding words with three consecutive vowels:\n",
      "\"boasting,\" \"quizzical,\" \"genuine,\" and \"queue\" were some of his favorites.\n",
      "As they continued their adventure, they encountered Lorem Ipsum, a lorem ipsum generator who spoke in Latin:\n",
      "\"Lorem ipsum dolor sit amet, consectetur adipiscing elit.\"\n",
      "In their pursuit, they stumbled upon an ancient book with mysterious ISBN-10 and ISBN-13 numbers:\n",
      "ISBN-10: 123456789X and ISBN-13: 978-1234567890.\n",
      "Their journey was filled with unexpected twists and turns, much like the regex patterns they used to decipher clues.\n",
      "After a long day, the explorers gathered around a campfire, sharing tales of their encounters. They realized that every step of their adventure was a puzzle waiting to be solved, just like the regex challenges they had conquered.\n",
      "As they drifted off to sleep under a starlit sky, they knew that their quest for treasure and knowledge had only just begun, and the magic of Regexville would continue to guide their way.\n",
      "\n",
      "\n"
     ]
    }
   ],
   "source": [
    "print(re.sub(r'Python','Java',s))"
   ]
  },
  {
   "cell_type": "markdown",
   "id": "7b4927c7-aeaa-45b3-b188-bdeffad10427",
   "metadata": {},
   "source": [
    "#### Create a Python program to validate US ZIP codes (5 digits, optional hyphen, followed by 4 more digits)."
   ]
  },
  {
   "cell_type": "code",
   "execution_count": 15,
   "id": "1e11dbf6-ce4a-4387-bd9c-ec303ae0276c",
   "metadata": {},
   "outputs": [
    {
     "name": "stdout",
     "output_type": "stream",
     "text": [
      "['12345-6789']\n"
     ]
    }
   ],
   "source": [
    "print(re.findall(r'\\d{5}-\\d{4}',s))"
   ]
  },
  {
   "cell_type": "markdown",
   "id": "3fae7411-88ab-4d0f-8f90-300455f8b0f2",
   "metadata": {},
   "source": [
    "#### Write a Python program that extracts all the words with 3 or more consecutive vowels from a given text."
   ]
  },
  {
   "cell_type": "code",
   "execution_count": 16,
   "id": "8c582872-3f44-46e1-b3d5-c185a248cedb",
   "metadata": {},
   "outputs": [
    {
     "name": "stdout",
     "output_type": "stream",
     "text": [
      "['mysterious', 'queue', 'mysterious']\n"
     ]
    }
   ],
   "source": [
    "print(re.findall(r\"\\b\\w*[aeiouAEIOU]{3,}\\w*\\b\", s))"
   ]
  },
  {
   "cell_type": "markdown",
   "id": "7d03b484-4ed5-4873-95a1-6968d5001479",
   "metadata": {},
   "source": [
    "#### Write a Python program that extracts all the words that are enclosed in double quotes in a given text."
   ]
  },
  {
   "cell_type": "code",
   "execution_count": 17,
   "id": "b3ccfe62-4b3c-4ead-89f7-e33b52dd43c2",
   "metadata": {},
   "outputs": [
    {
     "name": "stdout",
     "output_type": "stream",
     "text": [
      "['Python is amazing!', 'Java is equally fascinating!', 'boasting,', 'quizzical,', 'genuine,', 'queue', 'Lorem ipsum dolor sit amet, consectetur adipiscing elit.']\n"
     ]
    }
   ],
   "source": [
    "print(re.findall(r'\"([^\"]+)\"', s))"
   ]
  },
  {
   "cell_type": "markdown",
   "id": "e6cb2b73-c45b-4b28-8610-57d9304ddfe5",
   "metadata": {},
   "source": [
    "#### Create a Python program that extracts all the dates in the format \"dd/mm/yyyy\" from a given text."
   ]
  },
  {
   "cell_type": "code",
   "execution_count": 28,
   "id": "cf67cec5-9f4a-42ac-866f-4f28111d2f1f",
   "metadata": {},
   "outputs": [
    {
     "name": "stdout",
     "output_type": "stream",
     "text": [
      "['08/10/2023']\n"
     ]
    }
   ],
   "source": [
    "print(re.findall(r'\\b\\d{2}/\\d{2}/\\d{4}\\b', s))"
   ]
  },
  {
   "cell_type": "markdown",
   "id": "bc8cd00e-ce8e-4ef3-a20e-e3714464a827",
   "metadata": {},
   "source": [
    "#### Write a Python program that extracts all the words that contain only lowercase letters from a given text."
   ]
  },
  {
   "cell_type": "code",
   "execution_count": 30,
   "id": "67e053c3-c06c-490d-83d2-13d5873df074",
   "metadata": {},
   "outputs": [
    {
     "name": "stdout",
     "output_type": "stream",
     "text": [
      "['upon', 'a', 'time', 'in', 'the', 'enchanted', 'land', 'of', 'there', 'lived', 'a', 'group', 'of', 'intrepid', 'explorers', 'leader', 'was', 'known', 'for', 'her', 'love', 'of', 'adventure', 'and', 'her', 'trusty', 'email', 'address', 'alice', 'example', 'com', 'phone', 'number', 'was', 'her', 'lifeline', 'in', 'times', 'of', 'trouble', 'day', 'received', 'a', 'mysterious', 'letter', 'with', 'today', 's', 'date', 'letter', 'hinted', 'at', 'an', 'upcoming', 'quest', 'explorers', 'gathered', 'at', 'the', 'local', 'inn', 'where', 'they', 'found', 'a', 'weathered', 'map', 'marked', 'with', 'a', 'hashtag', 'adventure', 'map', 'pointed', 'to', 'a', 'hidden', 'treasure', 'on', 'the', 'website', 'https', 'www', 'treasurehunt', 'com', 'inn', 's', 'address', 'was', 'journey', 'took', 'them', 'through', 'the', 'ancient', 'forest', 'where', 'they', 'stumbled', 'upon', 'a', 'cave', 'with', 'cryptic', 'inscriptions', 'is', 'amazing', 'and', 'is', 'equally', 'fascinating', 'explorers', 'knew', 'they', 'were', 'on', 'the', 'right', 'path', 'the', 'cave', 'they', 'found', 'a', 'device', 'with', 'the', 'address', 'and', 'a', 'addres', 'of', 'which', 'held', 'valuable', 'clues', 'the', 'explorers', 'there', 'was', 'a', 'wordsmith', 'who', 'loved', 'finding', 'words', 'with', 'three', 'consecutive', 'vowels', 'boasting', 'quizzical', 'genuine', 'and', 'queue', 'were', 'some', 'of', 'his', 'favorites', 'they', 'continued', 'their', 'adventure', 'they', 'encountered', 'a', 'lorem', 'ipsum', 'generator', 'who', 'spoke', 'in', 'ipsum', 'dolor', 'sit', 'amet', 'consectetur', 'adipiscing', 'elit', 'their', 'pursuit', 'they', 'stumbled', 'upon', 'an', 'ancient', 'book', 'with', 'mysterious', 'and', 'numbers', 'and', 'journey', 'was', 'filled', 'with', 'unexpected', 'twists', 'and', 'turns', 'much', 'like', 'the', 'regex', 'patterns', 'they', 'used', 'to', 'decipher', 'clues', 'a', 'long', 'day', 'the', 'explorers', 'gathered', 'around', 'a', 'campfire', 'sharing', 'tales', 'of', 'their', 'encounters', 'realized', 'that', 'every', 'step', 'of', 'their', 'adventure', 'was', 'a', 'puzzle', 'waiting', 'to', 'be', 'solved', 'just', 'like', 'the', 'regex', 'challenges', 'they', 'had', 'conquered', 'they', 'drifted', 'off', 'to', 'sleep', 'under', 'a', 'starlit', 'sky', 'they', 'knew', 'that', 'their', 'quest', 'for', 'treasure', 'and', 'knowledge', 'had', 'only', 'just', 'begun', 'and', 'the', 'magic', 'of', 'would', 'continue', 'to', 'guide', 'their', 'way']\n"
     ]
    }
   ],
   "source": [
    "print(re.findall(r'\\b[a-z]+\\b', s))"
   ]
  },
  {
   "cell_type": "markdown",
   "id": "27138953-f3d8-4e8e-b94f-9cf60043cb76",
   "metadata": {},
   "source": [
    "#### Create a Python program that finds and prints all the hashtags (words starting with #) in a given text."
   ]
  },
  {
   "cell_type": "code",
   "execution_count": 24,
   "id": "93e50146-3390-46d7-8440-23dc4f0b5e5f",
   "metadata": {},
   "outputs": [
    {
     "name": "stdout",
     "output_type": "stream",
     "text": [
      "['#adventure']\n"
     ]
    }
   ],
   "source": [
    "print(re.findall(r'#\\w*',s))"
   ]
  },
  {
   "cell_type": "markdown",
   "id": "b73f8a8f-320a-44d7-95ee-587e48bffd17",
   "metadata": {},
   "source": [
    "#### Create a Python program to validate and extract ISBN-10 and ISBN-13 numbers from a given text."
   ]
  },
  {
   "cell_type": "code",
   "execution_count": 32,
   "id": "cf458093-044e-47f8-bdac-4d8ce22669ee",
   "metadata": {
    "scrolled": true
   },
   "outputs": [
    {
     "name": "stdout",
     "output_type": "stream",
     "text": [
      "['123-456-7890', '123456789X', '978-1234567890']\n"
     ]
    }
   ],
   "source": [
    "print(re.findall(r'\\b(?:\\d[-\\s]*){9}[\\dX]\\b|\\b(?:\\d[-\\s]*){12}\\d\\b',s))"
   ]
  },
  {
   "cell_type": "markdown",
   "id": "3c9198be-8c2c-446d-8ad8-ae462af90a80",
   "metadata": {},
   "source": [
    "#### Write a Python program that extracts all the words that are exactly 5 characters long from a given text."
   ]
  },
  {
   "cell_type": "code",
   "execution_count": 34,
   "id": "8f44b3b6-be95-48ab-af59-e7bc2c26a652",
   "metadata": {},
   "outputs": [
    {
     "name": "stdout",
     "output_type": "stream",
     "text": [
      "['there', 'lived', 'group', 'Their', 'Alice', 'known', 'email', 'alice', 'phone', 'times', 'Alice', 'today', 'quest', 'local', 'where', 'found', 'https', '12345', 'Their', 'where', 'right', 'found', 'which', 'clues', 'Among', 'there', 'loved', 'words', 'three', 'queue', 'their', 'Lorem', 'Ipsum', 'lorem', 'ipsum', 'spoke', 'Latin', 'Lorem', 'ipsum', 'dolor', 'their', 'Their', 'turns', 'regex', 'clues', 'After', 'tales', 'their', 'every', 'their', 'regex', 'sleep', 'under', 'their', 'quest', 'begun', 'magic', 'would', 'guide', 'their']\n"
     ]
    }
   ],
   "source": [
    "print(re.findall(r'\\b\\w{5}\\b',s))"
   ]
  },
  {
   "cell_type": "markdown",
   "id": "d19b4948-59f5-4d3d-9875-7f0f7e5ac60d",
   "metadata": {},
   "source": [
    "#### Create a Python program to validate and extract IPv4 addresses from a given text."
   ]
  },
  {
   "cell_type": "code",
   "execution_count": 35,
   "id": "2a0082f4-c83b-44fc-a710-ae0dab06bc1d",
   "metadata": {},
   "outputs": [
    {
     "name": "stdout",
     "output_type": "stream",
     "text": [
      "['192.168.1.1']\n"
     ]
    }
   ],
   "source": [
    "print(re.findall(r'\\b\\d{1,3}\\.\\d{1,3}\\.\\d{1,3}\\.\\d{1,3}',s))"
   ]
  },
  {
   "cell_type": "markdown",
   "id": "9ce5f531-325b-4611-a5c3-b3b98d9eecf3",
   "metadata": {},
   "source": [
    "#### Write a Python program that extracts all the words that end with \"ing\" from a given text."
   ]
  },
  {
   "cell_type": "code",
   "execution_count": 36,
   "id": "65481a0a-c36c-4b2a-a354-0393c98520cc",
   "metadata": {},
   "outputs": [
    {
     "name": "stdout",
     "output_type": "stream",
     "text": [
      "['upcoming', 'amazing', 'fascinating', 'finding', 'boasting', 'adipiscing', 'sharing', 'waiting']\n"
     ]
    }
   ],
   "source": [
    "print(re.findall(r'\\w+ing\\b',s))"
   ]
  },
  {
   "cell_type": "markdown",
   "id": "9c26f081-895f-487a-bb3b-b416804dc542",
   "metadata": {},
   "source": [
    "#### Create a Python program to validate and extract MAC addresses (in the format XX:XX:XX:XX:XX:XX) from a given text."
   ]
  },
  {
   "cell_type": "code",
   "execution_count": 37,
   "id": "014b0956-6ef8-46a1-8f0b-635e8bbad63b",
   "metadata": {},
   "outputs": [
    {
     "name": "stdout",
     "output_type": "stream",
     "text": [
      "['00-B0-D0-63-C2-26']\n"
     ]
    }
   ],
   "source": [
    "print(re.findall(r'.{2}-.{2}-.{2}-.{2}-.{2}-.{2}',s))"
   ]
  },
  {
   "cell_type": "markdown",
   "id": "31af65a0-2ee4-4249-995b-867f3a643268",
   "metadata": {},
   "source": [
    "#### Create a Python program to find all words that are before and after an 'and' from a given text. (x and y)"
   ]
  },
  {
   "cell_type": "code",
   "execution_count": 30,
   "id": "1deaac88-cf97-4b9a-8950-f395bbb052c2",
   "metadata": {},
   "outputs": [
    {
     "name": "stdout",
     "output_type": "stream",
     "text": [
      "['adventure and her', '1 and a', '10 and ISBN', '123456789X and ISBN', 'twists and turns', 'treasure and knowledge']\n"
     ]
    }
   ],
   "source": [
    "extract = re.findall(r'\\w+ and \\w+', s)\n",
    "print(extract)"
   ]
  },
  {
   "cell_type": "markdown",
   "id": "d6166a92-013d-4a04-b73b-64b217397769",
   "metadata": {},
   "source": [
    "#### Create a Python program to find all words from a given text that start and end with the same letter and it is not a vowl."
   ]
  },
  {
   "cell_type": "code",
   "execution_count": 31,
   "id": "eb7eb2ec-3090-4f0f-b9f8-f7b418468890",
   "metadata": {},
   "outputs": [
    {
     "name": "stdout",
     "output_type": "stream",
     "text": [
      "[('l', 'l'), ('w', 'w'), ('t', 't'), ('c', 'c'), ('t', 't'), ('d', 'd'), ('t', 't')]\n"
     ]
    }
   ],
   "source": [
    "extract = re.findall(r'\\b([^aeiou\\s.\\-\\/])\\w+(\\1)\\b', s)\n",
    "print(extract)"
   ]
  },
  {
   "cell_type": "markdown",
   "id": "f5baebd4-25d9-4581-990c-f44f99945158",
   "metadata": {},
   "source": [
    "#### Create a Python program to find all 'lorem ipsum' appearances (not cap sensitive) from a given text"
   ]
  },
  {
   "cell_type": "code",
   "execution_count": 32,
   "id": "3396f13f-2af1-4be2-b40b-bc35aff7f3e3",
   "metadata": {},
   "outputs": [
    {
     "name": "stdout",
     "output_type": "stream",
     "text": [
      "['Lorem Ipsum', 'lorem ipsum', 'Lorem ipsum']\n"
     ]
    }
   ],
   "source": [
    "extract = re.findall(r'[L|l]orem [i|I]psum', s)\n",
    "print(extract)"
   ]
  },
  {
   "cell_type": "markdown",
   "id": "34c95b09-efda-44d0-94a7-ee539b5ebacc",
   "metadata": {},
   "source": [
    "#### Create a Python program to find all repeating equal consonants from a given text. (nn, tt, ...)"
   ]
  },
  {
   "cell_type": "code",
   "execution_count": 33,
   "id": "c2b6517d-9aca-4b10-bc7f-a7c93b29fc5b",
   "metadata": {},
   "outputs": [
    {
     "name": "stdout",
     "output_type": "stream",
     "text": [
      "['l', 'd', 's', 't', 't', 'n', 'd', 't', 'w', 'n', 'd', 's', 'l', 'l', 'd', 's', 'd', '0', 'z', 'l', 't', 'z', 'l', 'f', 'l']\n"
     ]
    }
   ],
   "source": [
    "extract = re.findall(r'([^aeiou\\s\\-\\/])\\1', s)\n",
    "print(extract)"
   ]
  }
 ],
 "metadata": {
  "kernelspec": {
   "display_name": "Python 3 (ipykernel)",
   "language": "python",
   "name": "python3"
  },
  "language_info": {
   "codemirror_mode": {
    "name": "ipython",
    "version": 3
   },
   "file_extension": ".py",
   "mimetype": "text/x-python",
   "name": "python",
   "nbconvert_exporter": "python",
   "pygments_lexer": "ipython3",
   "version": "3.11.3"
  }
 },
 "nbformat": 4,
 "nbformat_minor": 5
}
