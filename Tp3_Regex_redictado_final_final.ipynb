{
 "cells": [
  {
   "cell_type": "code",
   "execution_count": 98,
   "id": "98bce14f-98b2-4855-99c3-284c9f0f1322",
   "metadata": {},
   "outputs": [],
   "source": [
    "import re\n",
    "\n",
    "s = \"\"\"\n",
    "\n",
    "Once upon a time, in the enchanted land of Regexville, there lived a group of intrepid explorers.\n",
    "Their leader, Alice, was known for her love of adventure and her trusty email address, alice@example.com.\n",
    "Her phone number, 123-456-7890, was her lifeline in times of trouble.\n",
    "One day, Alice received a mysterious letter with today's date: 08/10/2023. The letter hinted at an upcoming quest.\n",
    "The explorers gathered at the local inn, where they found a weathered map marked with a hashtag: #adventure.\n",
    "The map pointed to a hidden treasure on the website https://www.treasurehunt.com. The inn's address was 123 Main Street, Regexville, ZIP: 12345-6789.\n",
    "Their journey took them through the ancient forest, where they stumbled upon a cave with cryptic inscriptions:\n",
    "\"Python is amazing!\" and \"Java is equally fascinating!\" The explorers knew they were on the right path.\n",
    "Inside the cave, they found a device with the IP address 192.168.1.1 and a MAC addres of 00-B0-D0-63-C2-26, which held valuable clues.\n",
    "\n",
    "Among the explorers, there was a wordsmith who loved finding words with three consecutive vowels:\n",
    "\"boasting,\" \"quizzical,\" \"genuine,\" and \"queue\" were some of his favorites.\n",
    "As they continued their adventure, they encountered Lorem Ipsum, a lorem ipsum generator who spoke in Latin:\n",
    "\"Lorem ipsum dolor sit amet, consectetur adipiscing elit.\"\n",
    "In their pursuit, they stumbled upon an ancient book with mysterious ISBN-10 and ISBN-13 numbers:\n",
    "ISBN-10: 123456789X and ISBN-13: 978-1234567890.\n",
    "Their journey was filled with unexpected twists and turns, much like the regex patterns they used to decipher clues.\n",
    "After a long day, the explorers gathered around a campfire, sharing tales of their encounters. They realized that every step of their adventure was a puzzle waiting to be solved, just like the regex challenges they had conquered.\n",
    "As they drifted off to sleep under a starlit sky, they knew that their quest for treasure and knowledge had only just begun, and the magic of Regexville would continue to guide their way.\n",
    "\n",
    "\"\"\""
   ]
  },
  {
   "cell_type": "markdown",
   "id": "514f802a-9b85-4457-80b4-b53623832bb2",
   "metadata": {},
   "source": [
    "#### Write a Python program that matches and prints all words that start with the letter 'A' in a given text."
   ]
  },
  {
   "cell_type": "code",
   "execution_count": 99,
   "id": "db4c55db-2416-43bc-83b3-07eea37df2d7",
   "metadata": {
    "scrolled": true
   },
   "outputs": [
    {
     "data": {
      "text/plain": [
       "['Alice', 'Alice', 'AC', 'Among', 'As', 'After', 'As']"
      ]
     },
     "execution_count": 99,
     "metadata": {},
     "output_type": "execute_result"
    }
   ],
   "source": [
    "re.findall ('[A]\\w*', s)"
   ]
  },
  {
   "cell_type": "markdown",
   "id": "964905ba-bcb1-4c2e-9a21-224e68728094",
   "metadata": {},
   "source": [
    "#### Create a Python program to validate email addresses. The program should check if a given string is a valid email address or not."
   ]
  },
  {
   "cell_type": "code",
   "execution_count": 100,
   "id": "4b499ed5-e972-4116-a721-dbfb29e781d5",
   "metadata": {},
   "outputs": [
    {
     "data": {
      "text/plain": [
       "['alice@example.com']"
      ]
     },
     "execution_count": 100,
     "metadata": {},
     "output_type": "execute_result"
    }
   ],
   "source": [
    "re.findall ('\\w+[\\.\\w]?+@\\w+\\.\\w{2,3}[\\w{2}]?',s)"
   ]
  },
  {
   "cell_type": "markdown",
   "id": "9e6e0450-214b-40c6-a474-6dff2c41ee43",
   "metadata": {},
   "source": [
    "#### Write a Python program to find and count all the digits in a given text."
   ]
  },
  {
   "cell_type": "code",
   "execution_count": 101,
   "id": "ec71a1d9-d971-4119-9124-a3f993069eeb",
   "metadata": {},
   "outputs": [
    {
     "name": "stdout",
     "output_type": "stream",
     "text": [
      "['1', '2', '3', '4', '5', '6', '7', '8', '9', '0', '0', '8', '1', '0', '2', '0', '2', '3', '1', '2', '3', '1', '2', '3', '4', '5', '6', '7', '8', '9', '1', '9', '2', '1', '6', '8', '1', '1', '0', '0', '0', '0', '6', '3', '2', '2', '6', '1', '0', '1', '3', '1', '0', '1', '2', '3', '4', '5', '6', '7', '8', '9', '1', '3', '9', '7', '8', '1', '2', '3', '4', '5', '6', '7', '8', '9', '0']\n",
      "77\n"
     ]
    }
   ],
   "source": [
    "digits = re.findall(r'\\d',s)\n",
    "print (digits)\n",
    "print (len(digits))"
   ]
  },
  {
   "cell_type": "markdown",
   "id": "5ba7033a-f85c-4ff9-9696-1a069beda9fb",
   "metadata": {},
   "source": [
    "#### Create a Python program that extracts all the URLs (http:// or https://) from a given text."
   ]
  },
  {
   "cell_type": "code",
   "execution_count": 102,
   "id": "084f2eb3-e67c-45bd-8460-b113b6794e82",
   "metadata": {},
   "outputs": [
    {
     "data": {
      "text/plain": [
       "['https://www.treasurehunt.com.']"
      ]
     },
     "execution_count": 102,
     "metadata": {},
     "output_type": "execute_result"
    }
   ],
   "source": [
    "re.findall('(https?://[^\\s]+)',s)"
   ]
  },
  {
   "cell_type": "markdown",
   "id": "04664806-5191-4a7a-bb82-be8cd0e9a77c",
   "metadata": {},
   "source": [
    "#### Write a Python program that extracts all the phone numbers (in the format xxx-xxx-xxxx) from a given text."
   ]
  },
  {
   "cell_type": "code",
   "execution_count": 103,
   "id": "a88f57ea-c034-49e3-9586-bcf1a9b795f8",
   "metadata": {},
   "outputs": [
    {
     "data": {
      "text/plain": [
       "['123-456-7890']"
      ]
     },
     "execution_count": 103,
     "metadata": {},
     "output_type": "execute_result"
    }
   ],
   "source": [
    "re.findall ('\\d{3}-\\d{3}-\\d{4}',s)"
   ]
  },
  {
   "cell_type": "markdown",
   "id": "9601a4e1-beee-4c81-8f64-b8794c73d593",
   "metadata": {},
   "source": [
    "#### Write a Python program that replaces all occurrences of \"Python\" with \"Java\" in a given text."
   ]
  },
  {
   "cell_type": "code",
   "execution_count": 104,
   "id": "fc8577e1-8f37-4c29-91f1-314736687689",
   "metadata": {},
   "outputs": [
    {
     "name": "stdout",
     "output_type": "stream",
     "text": [
      "\n",
      "\n",
      "Once upon a time, in the enchanted land of Regexville, there lived a group of intrepid explorers.\n",
      "Their leader, Alice, was known for her love of adventure and her trusty email address, alice@example.com.\n",
      "Her phone number, 123-456-7890, was her lifeline in times of trouble.\n",
      "One day, Alice received a mysterious letter with today's date: 08/10/2023. The letter hinted at an upcoming quest.\n",
      "The explorers gathered at the local inn, where they found a weathered map marked with a hashtag: #adventure.\n",
      "The map pointed to a hidden treasure on the website https://www.treasurehunt.com. The inn's address was 123 Main Street, Regexville, ZIP: 12345-6789.\n",
      "Their journey took them through the ancient forest, where they stumbled upon a cave with cryptic inscriptions:\n",
      "\"Java is amazing!\" and \"Java is equally fascinating!\" The explorers knew they were on the right path.\n",
      "Inside the cave, they found a device with the IP address 192.168.1.1 and a MAC addres of 00-B0-D0-63-C2-26, which held valuable clues.\n",
      "\n",
      "Among the explorers, there was a wordsmith who loved finding words with three consecutive vowels:\n",
      "\"boasting,\" \"quizzical,\" \"genuine,\" and \"queue\" were some of his favorites.\n",
      "As they continued their adventure, they encountered Lorem Ipsum, a lorem ipsum generator who spoke in Latin:\n",
      "\"Lorem ipsum dolor sit amet, consectetur adipiscing elit.\"\n",
      "In their pursuit, they stumbled upon an ancient book with mysterious ISBN-10 and ISBN-13 numbers:\n",
      "ISBN-10: 123456789X and ISBN-13: 978-1234567890.\n",
      "Their journey was filled with unexpected twists and turns, much like the regex patterns they used to decipher clues.\n",
      "After a long day, the explorers gathered around a campfire, sharing tales of their encounters. They realized that every step of their adventure was a puzzle waiting to be solved, just like the regex challenges they had conquered.\n",
      "As they drifted off to sleep under a starlit sky, they knew that their quest for treasure and knowledge had only just begun, and the magic of Regexville would continue to guide their way.\n",
      "\n",
      "\n"
     ]
    }
   ],
   "source": [
    "print (re.sub ('Python','Java',s))"
   ]
  },
  {
   "cell_type": "markdown",
   "id": "7b4927c7-aeaa-45b3-b188-bdeffad10427",
   "metadata": {},
   "source": [
    "#### Create a Python program to validate US ZIP codes (5 digits, optional hyphen, followed by 4 more digits)."
   ]
  },
  {
   "cell_type": "code",
   "execution_count": 105,
   "id": "1a47bad6-3a06-42d4-a8fb-5b68b9b91173",
   "metadata": {},
   "outputs": [
    {
     "data": {
      "text/plain": [
       "['12345-6789', '123456789', '123456789']"
      ]
     },
     "execution_count": 105,
     "metadata": {},
     "output_type": "execute_result"
    }
   ],
   "source": [
    "re.findall (r'\\d{5}[-]?\\d{4}', s)"
   ]
  },
  {
   "cell_type": "markdown",
   "id": "3fae7411-88ab-4d0f-8f90-300455f8b0f2",
   "metadata": {},
   "source": [
    "#### Write a Python program that extracts all the words with 3 or more consecutive vowels from a given text."
   ]
  },
  {
   "cell_type": "code",
   "execution_count": 106,
   "id": "8c582872-3f44-46e1-b3d5-c185a248cedb",
   "metadata": {},
   "outputs": [
    {
     "name": "stdout",
     "output_type": "stream",
     "text": [
      "['mysterious', 'queue', 'mysterious']\n"
     ]
    }
   ],
   "source": [
    "extract = re.findall(r\"\\b\\w*[aeiouAEIOU]{3,}\\w*\\b\", s)\n",
    "print(extract)"
   ]
  },
  {
   "cell_type": "markdown",
   "id": "7d03b484-4ed5-4873-95a1-6968d5001479",
   "metadata": {},
   "source": [
    "#### Write a Python program that extracts all the words that are enclosed in double quotes in a given text."
   ]
  },
  {
   "cell_type": "code",
   "execution_count": 107,
   "id": "b3ccfe62-4b3c-4ead-89f7-e33b52dd43c2",
   "metadata": {},
   "outputs": [
    {
     "data": {
      "text/plain": [
       "['Python is amazing!',\n",
       " 'Java is equally fascinating!',\n",
       " 'boasting,',\n",
       " 'quizzical,',\n",
       " 'genuine,',\n",
       " 'queue',\n",
       " 'Lorem ipsum dolor sit amet, consectetur adipiscing elit.']"
      ]
     },
     "execution_count": 107,
     "metadata": {},
     "output_type": "execute_result"
    }
   ],
   "source": [
    "re.findall(r'\"([^\"]+)\"', s)"
   ]
  },
  {
   "cell_type": "markdown",
   "id": "e6cb2b73-c45b-4b28-8610-57d9304ddfe5",
   "metadata": {},
   "source": [
    "#### Create a Python program that extracts all the dates in the format \"dd/mm/yyyy\" from a given text."
   ]
  },
  {
   "cell_type": "code",
   "execution_count": 108,
   "id": "cf67cec5-9f4a-42ac-866f-4f28111d2f1f",
   "metadata": {},
   "outputs": [
    {
     "data": {
      "text/plain": [
       "['08/10/2023']"
      ]
     },
     "execution_count": 108,
     "metadata": {},
     "output_type": "execute_result"
    }
   ],
   "source": [
    "re.findall(\"\\d{2}\\/\\d{1,2}\\/\\d{2,4}\", s)"
   ]
  },
  {
   "cell_type": "markdown",
   "id": "bc8cd00e-ce8e-4ef3-a20e-e3714464a827",
   "metadata": {},
   "source": [
    "#### Write a Python program that extracts all the words that contain only lowercase letters from a given text."
   ]
  },
  {
   "cell_type": "code",
   "execution_count": 109,
   "id": "67e053c3-c06c-490d-83d2-13d5873df074",
   "metadata": {},
   "outputs": [
    {
     "data": {
      "text/plain": [
       "['upon',\n",
       " 'a',\n",
       " 'time',\n",
       " 'in',\n",
       " 'the',\n",
       " 'enchanted',\n",
       " 'land',\n",
       " 'of',\n",
       " 'there',\n",
       " 'lived',\n",
       " 'a',\n",
       " 'group',\n",
       " 'of',\n",
       " 'intrepid',\n",
       " 'explorers',\n",
       " 'leader',\n",
       " 'was',\n",
       " 'known',\n",
       " 'for',\n",
       " 'her',\n",
       " 'love',\n",
       " 'of',\n",
       " 'adventure',\n",
       " 'and',\n",
       " 'her',\n",
       " 'trusty',\n",
       " 'email',\n",
       " 'address',\n",
       " 'alice',\n",
       " 'example',\n",
       " 'com',\n",
       " 'phone',\n",
       " 'number',\n",
       " 'was',\n",
       " 'her',\n",
       " 'lifeline',\n",
       " 'in',\n",
       " 'times',\n",
       " 'of',\n",
       " 'trouble',\n",
       " 'day',\n",
       " 'received',\n",
       " 'a',\n",
       " 'mysterious',\n",
       " 'letter',\n",
       " 'with',\n",
       " 'today',\n",
       " 's',\n",
       " 'date',\n",
       " 'letter',\n",
       " 'hinted',\n",
       " 'at',\n",
       " 'an',\n",
       " 'upcoming',\n",
       " 'quest',\n",
       " 'explorers',\n",
       " 'gathered',\n",
       " 'at',\n",
       " 'the',\n",
       " 'local',\n",
       " 'inn',\n",
       " 'where',\n",
       " 'they',\n",
       " 'found',\n",
       " 'a',\n",
       " 'weathered',\n",
       " 'map',\n",
       " 'marked',\n",
       " 'with',\n",
       " 'a',\n",
       " 'hashtag',\n",
       " 'adventure',\n",
       " 'map',\n",
       " 'pointed',\n",
       " 'to',\n",
       " 'a',\n",
       " 'hidden',\n",
       " 'treasure',\n",
       " 'on',\n",
       " 'the',\n",
       " 'website',\n",
       " 'https',\n",
       " 'www',\n",
       " 'treasurehunt',\n",
       " 'com',\n",
       " 'inn',\n",
       " 's',\n",
       " 'address',\n",
       " 'was',\n",
       " 'journey',\n",
       " 'took',\n",
       " 'them',\n",
       " 'through',\n",
       " 'the',\n",
       " 'ancient',\n",
       " 'forest',\n",
       " 'where',\n",
       " 'they',\n",
       " 'stumbled',\n",
       " 'upon',\n",
       " 'a',\n",
       " 'cave',\n",
       " 'with',\n",
       " 'cryptic',\n",
       " 'inscriptions',\n",
       " 'is',\n",
       " 'amazing',\n",
       " 'and',\n",
       " 'is',\n",
       " 'equally',\n",
       " 'fascinating',\n",
       " 'explorers',\n",
       " 'knew',\n",
       " 'they',\n",
       " 'were',\n",
       " 'on',\n",
       " 'the',\n",
       " 'right',\n",
       " 'path',\n",
       " 'the',\n",
       " 'cave',\n",
       " 'they',\n",
       " 'found',\n",
       " 'a',\n",
       " 'device',\n",
       " 'with',\n",
       " 'the',\n",
       " 'address',\n",
       " 'and',\n",
       " 'a',\n",
       " 'addres',\n",
       " 'of',\n",
       " 'which',\n",
       " 'held',\n",
       " 'valuable',\n",
       " 'clues',\n",
       " 'the',\n",
       " 'explorers',\n",
       " 'there',\n",
       " 'was',\n",
       " 'a',\n",
       " 'wordsmith',\n",
       " 'who',\n",
       " 'loved',\n",
       " 'finding',\n",
       " 'words',\n",
       " 'with',\n",
       " 'three',\n",
       " 'consecutive',\n",
       " 'vowels',\n",
       " 'boasting',\n",
       " 'quizzical',\n",
       " 'genuine',\n",
       " 'and',\n",
       " 'queue',\n",
       " 'were',\n",
       " 'some',\n",
       " 'of',\n",
       " 'his',\n",
       " 'favorites',\n",
       " 'they',\n",
       " 'continued',\n",
       " 'their',\n",
       " 'adventure',\n",
       " 'they',\n",
       " 'encountered',\n",
       " 'a',\n",
       " 'lorem',\n",
       " 'ipsum',\n",
       " 'generator',\n",
       " 'who',\n",
       " 'spoke',\n",
       " 'in',\n",
       " 'ipsum',\n",
       " 'dolor',\n",
       " 'sit',\n",
       " 'amet',\n",
       " 'consectetur',\n",
       " 'adipiscing',\n",
       " 'elit',\n",
       " 'their',\n",
       " 'pursuit',\n",
       " 'they',\n",
       " 'stumbled',\n",
       " 'upon',\n",
       " 'an',\n",
       " 'ancient',\n",
       " 'book',\n",
       " 'with',\n",
       " 'mysterious',\n",
       " 'and',\n",
       " 'numbers',\n",
       " 'and',\n",
       " 'journey',\n",
       " 'was',\n",
       " 'filled',\n",
       " 'with',\n",
       " 'unexpected',\n",
       " 'twists',\n",
       " 'and',\n",
       " 'turns',\n",
       " 'much',\n",
       " 'like',\n",
       " 'the',\n",
       " 'regex',\n",
       " 'patterns',\n",
       " 'they',\n",
       " 'used',\n",
       " 'to',\n",
       " 'decipher',\n",
       " 'clues',\n",
       " 'a',\n",
       " 'long',\n",
       " 'day',\n",
       " 'the',\n",
       " 'explorers',\n",
       " 'gathered',\n",
       " 'around',\n",
       " 'a',\n",
       " 'campfire',\n",
       " 'sharing',\n",
       " 'tales',\n",
       " 'of',\n",
       " 'their',\n",
       " 'encounters',\n",
       " 'realized',\n",
       " 'that',\n",
       " 'every',\n",
       " 'step',\n",
       " 'of',\n",
       " 'their',\n",
       " 'adventure',\n",
       " 'was',\n",
       " 'a',\n",
       " 'puzzle',\n",
       " 'waiting',\n",
       " 'to',\n",
       " 'be',\n",
       " 'solved',\n",
       " 'just',\n",
       " 'like',\n",
       " 'the',\n",
       " 'regex',\n",
       " 'challenges',\n",
       " 'they',\n",
       " 'had',\n",
       " 'conquered',\n",
       " 'they',\n",
       " 'drifted',\n",
       " 'off',\n",
       " 'to',\n",
       " 'sleep',\n",
       " 'under',\n",
       " 'a',\n",
       " 'starlit',\n",
       " 'sky',\n",
       " 'they',\n",
       " 'knew',\n",
       " 'that',\n",
       " 'their',\n",
       " 'quest',\n",
       " 'for',\n",
       " 'treasure',\n",
       " 'and',\n",
       " 'knowledge',\n",
       " 'had',\n",
       " 'only',\n",
       " 'just',\n",
       " 'begun',\n",
       " 'and',\n",
       " 'the',\n",
       " 'magic',\n",
       " 'of',\n",
       " 'would',\n",
       " 'continue',\n",
       " 'to',\n",
       " 'guide',\n",
       " 'their',\n",
       " 'way']"
      ]
     },
     "execution_count": 109,
     "metadata": {},
     "output_type": "execute_result"
    }
   ],
   "source": [
    "re.findall(r\"\\b[a-z]+\\b\", s)"
   ]
  },
  {
   "cell_type": "markdown",
   "id": "27138953-f3d8-4e8e-b94f-9cf60043cb76",
   "metadata": {},
   "source": [
    "#### Create a Python program that finds and prints all the hashtags (words starting with #) in a given text."
   ]
  },
  {
   "cell_type": "code",
   "execution_count": 110,
   "id": "93e50146-3390-46d7-8440-23dc4f0b5e5f",
   "metadata": {},
   "outputs": [
    {
     "data": {
      "text/plain": [
       "['#adventure']"
      ]
     },
     "execution_count": 110,
     "metadata": {},
     "output_type": "execute_result"
    }
   ],
   "source": [
    "re.findall(r\"\\B#\\w+\", s)"
   ]
  },
  {
   "cell_type": "markdown",
   "id": "b73f8a8f-320a-44d7-95ee-587e48bffd17",
   "metadata": {},
   "source": [
    "#### Create a Python program to validate and extract ISBN-10 and ISBN-13 numbers from a given text."
   ]
  },
  {
   "cell_type": "code",
   "execution_count": 111,
   "id": "cf458093-044e-47f8-bdac-4d8ce22669ee",
   "metadata": {},
   "outputs": [
    {
     "data": {
      "text/plain": [
       "['123456789X', '1234567890']"
      ]
     },
     "execution_count": 111,
     "metadata": {},
     "output_type": "execute_result"
    }
   ],
   "source": [
    "re.findall(r\"\\b(?:\\d{9}[\\dX]|\\d{3}-\\d{1,5}-\\d{1,7}-\\d{1,9}[\\dX])\\b\", s)"
   ]
  },
  {
   "cell_type": "markdown",
   "id": "3c9198be-8c2c-446d-8ad8-ae462af90a80",
   "metadata": {},
   "source": [
    "#### Write a Python program that extracts all the words that are exactly 5 characters long from a given text."
   ]
  },
  {
   "cell_type": "code",
   "execution_count": 112,
   "id": "8f44b3b6-be95-48ab-af59-e7bc2c26a652",
   "metadata": {},
   "outputs": [
    {
     "data": {
      "text/plain": [
       "['there',\n",
       " 'lived',\n",
       " 'group',\n",
       " 'Their',\n",
       " 'Alice',\n",
       " 'known',\n",
       " 'email',\n",
       " 'alice',\n",
       " 'phone',\n",
       " 'times',\n",
       " 'Alice',\n",
       " 'today',\n",
       " 'quest',\n",
       " 'local',\n",
       " 'where',\n",
       " 'found',\n",
       " 'https',\n",
       " '12345',\n",
       " 'Their',\n",
       " 'where',\n",
       " 'right',\n",
       " 'found',\n",
       " 'which',\n",
       " 'clues',\n",
       " 'Among',\n",
       " 'there',\n",
       " 'loved',\n",
       " 'words',\n",
       " 'three',\n",
       " 'queue',\n",
       " 'their',\n",
       " 'Lorem',\n",
       " 'Ipsum',\n",
       " 'lorem',\n",
       " 'ipsum',\n",
       " 'spoke',\n",
       " 'Latin',\n",
       " 'Lorem',\n",
       " 'ipsum',\n",
       " 'dolor',\n",
       " 'their',\n",
       " 'Their',\n",
       " 'turns',\n",
       " 'regex',\n",
       " 'clues',\n",
       " 'After',\n",
       " 'tales',\n",
       " 'their',\n",
       " 'every',\n",
       " 'their',\n",
       " 'regex',\n",
       " 'sleep',\n",
       " 'under',\n",
       " 'their',\n",
       " 'quest',\n",
       " 'begun',\n",
       " 'magic',\n",
       " 'would',\n",
       " 'guide',\n",
       " 'their']"
      ]
     },
     "execution_count": 112,
     "metadata": {},
     "output_type": "execute_result"
    }
   ],
   "source": [
    "re.findall(r\"\\b\\w{5}\\b\", s)"
   ]
  },
  {
   "cell_type": "markdown",
   "id": "d19b4948-59f5-4d3d-9875-7f0f7e5ac60d",
   "metadata": {},
   "source": [
    "#### Create a Python program to validate and extract IPv4 addresses from a given text."
   ]
  },
  {
   "cell_type": "code",
   "execution_count": 113,
   "id": "2a0082f4-c83b-44fc-a710-ae0dab06bc1d",
   "metadata": {},
   "outputs": [
    {
     "data": {
      "text/plain": [
       "['192.168.1.1']"
      ]
     },
     "execution_count": 113,
     "metadata": {},
     "output_type": "execute_result"
    }
   ],
   "source": [
    "re.findall(r\"\\b(?:\\d{1,3}\\.){3}\\d{1,3}\\b\", s)"
   ]
  },
  {
   "cell_type": "markdown",
   "id": "9ce5f531-325b-4611-a5c3-b3b98d9eecf3",
   "metadata": {},
   "source": [
    "#### Write a Python program that extracts all the words that end with \"ing\" from a given text."
   ]
  },
  {
   "cell_type": "code",
   "execution_count": 114,
   "id": "65481a0a-c36c-4b2a-a354-0393c98520cc",
   "metadata": {},
   "outputs": [
    {
     "data": {
      "text/plain": [
       "['upcoming',\n",
       " 'amazing',\n",
       " 'fascinating',\n",
       " 'finding',\n",
       " 'boasting',\n",
       " 'adipiscing',\n",
       " 'sharing',\n",
       " 'waiting']"
      ]
     },
     "execution_count": 114,
     "metadata": {},
     "output_type": "execute_result"
    }
   ],
   "source": [
    "re.findall(r\"\\b\\w+ing\\b\", s)"
   ]
  },
  {
   "cell_type": "markdown",
   "id": "9c26f081-895f-487a-bb3b-b416804dc542",
   "metadata": {},
   "source": [
    "#### Create a Python program to validate and extract MAC addresses (in the format XX:XX:XX:XX:XX:XX) from a given text."
   ]
  },
  {
   "cell_type": "code",
   "execution_count": 83,
   "id": "014b0956-6ef8-46a1-8f0b-635e8bbad63b",
   "metadata": {},
   "outputs": [
    {
     "data": {
      "text/plain": [
       "['00-B0-D0-63-C2-26']"
      ]
     },
     "execution_count": 83,
     "metadata": {},
     "output_type": "execute_result"
    }
   ],
   "source": [
    "re.findall(r'\\w{1,2}\\-\\w{1,2}\\-\\w{1,2}\\-\\w{1,2}\\-\\w{1,2}\\-\\w{1,2}', s)"
   ]
  }
 ],
 "metadata": {
  "kernelspec": {
   "display_name": "Python 3 (ipykernel)",
   "language": "python",
   "name": "python3"
  },
  "language_info": {
   "codemirror_mode": {
    "name": "ipython",
    "version": 3
   },
   "file_extension": ".py",
   "mimetype": "text/x-python",
   "name": "python",
   "nbconvert_exporter": "python",
   "pygments_lexer": "ipython3",
   "version": "3.11.3"
  }
 },
 "nbformat": 4,
 "nbformat_minor": 5
}
